{
 "cells": [
  {
   "cell_type": "markdown",
   "id": "11e2dc06-ae68-4d2a-8b18-1407d32ad390",
   "metadata": {},
   "source": [
    "# 02-primocapitolo"
   ]
  },
  {
   "cell_type": "code",
   "execution_count": 1,
   "id": "32d600a8-2150-45df-91ab-fd477d24125c",
   "metadata": {},
   "outputs": [],
   "source": [
    "from functions import *\n",
    "\n",
    "raf = Student(age=35, sex=\"male\")"
   ]
  }
 ],
 "metadata": {
  "kernelspec": {
   "display_name": "Python 3 (ipykernel)",
   "language": "python",
   "name": "python3"
  },
  "language_info": {
   "codemirror_mode": {
    "name": "ipython",
    "version": 3
   },
   "file_extension": ".py",
   "mimetype": "text/x-python",
   "name": "python",
   "nbconvert_exporter": "python",
   "pygments_lexer": "ipython3",
   "version": "3.12.1"
  }
 },
 "nbformat": 4,
 "nbformat_minor": 5
}
